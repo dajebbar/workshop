{
  "nbformat": 4,
  "nbformat_minor": 0,
  "metadata": {
    "colab": {
      "name": "activities.ipynb",
      "provenance": []
    },
    "kernelspec": {
      "name": "python3",
      "display_name": "Python 3"
    },
    "language_info": {
      "name": "python"
    }
  },
  "cells": [
    {
      "cell_type": "markdown",
      "source": [
        "# Reading Tabular Data from a Web Page and Creating DataFrames"
      ],
      "metadata": {
        "id": "UV8DKTK_SEbh"
      }
    },
    {
      "cell_type": "code",
      "execution_count": 1,
      "metadata": {
        "id": "IxFbBEo0R9kv"
      },
      "outputs": [],
      "source": [
        "import numpy as np\n",
        "import pandas as pd\n",
        "import matplotlib.pyplot as plt\n",
        "import requests\n",
        "from bs4 import BeautifulSoup\n",
        "plt.style.use('ggplot')\n",
        "%matplotlib inline"
      ]
    },
    {
      "cell_type": "markdown",
      "source": [
        "## Read the page"
      ],
      "metadata": {
        "id": "gOYbPPkTTaNJ"
      }
    },
    {
      "cell_type": "code",
      "source": [
        "url ='https://en.wikipedia.org/wiki/List_of_countries_by_GDP_(nominal)'\n",
        "response = requests.get(url)\n",
        "\n",
        "soup = BeautifulSoup(response.content)"
      ],
      "metadata": {
        "id": "H8cvB6wJSsMD"
      },
      "execution_count": 2,
      "outputs": []
    },
    {
      "cell_type": "code",
      "source": [
        ""
      ],
      "metadata": {
        "id": "6MmHMMrOTdCt"
      },
      "execution_count": null,
      "outputs": []
    }
  ]
}