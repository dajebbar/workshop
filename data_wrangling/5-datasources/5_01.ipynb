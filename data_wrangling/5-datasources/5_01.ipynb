{
  "nbformat": 4,
  "nbformat_minor": 0,
  "metadata": {
    "colab": {
      "name": "5.01.ipynb",
      "provenance": []
    },
    "kernelspec": {
      "name": "python3",
      "display_name": "Python 3"
    },
    "language_info": {
      "name": "python"
    }
  },
  "cells": [
    {
      "cell_type": "code",
      "execution_count": 1,
      "metadata": {
        "colab": {
          "base_uri": "https://localhost:8080/"
        },
        "id": "BpHbq3yH5blk",
        "outputId": "60118cd6-45f7-4bb7-cfb6-a65ca53c8c78"
      },
      "outputs": [
        {
          "output_type": "stream",
          "name": "stdout",
          "text": [
            "\u001b[K     |████████████████████████████████| 12.0 MB 3.6 MB/s \n",
            "\u001b[K     |████████████████████████████████| 103 kB 66.5 MB/s \n",
            "\u001b[?25h"
          ]
        }
      ],
      "source": [
        "!pip install tabula-py xlrd==1.2.0 lxml --quiet"
      ]
    },
    {
      "cell_type": "markdown",
      "source": [
        "# Working with Headers "
      ],
      "metadata": {
        "id": "x78YpYMp6cgr"
      }
    },
    {
      "cell_type": "code",
      "source": [
        ""
      ],
      "metadata": {
        "id": "wQ5Q2A_U6HYa"
      },
      "execution_count": null,
      "outputs": []
    }
  ]
}