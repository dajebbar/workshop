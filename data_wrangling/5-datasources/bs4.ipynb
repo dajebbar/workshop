{
  "nbformat": 4,
  "nbformat_minor": 0,
  "metadata": {
    "colab": {
      "name": "bs4.ipynb",
      "provenance": []
    },
    "kernelspec": {
      "name": "python3",
      "display_name": "Python 3"
    },
    "language_info": {
      "name": "python"
    }
  },
  "cells": [
    {
      "cell_type": "markdown",
      "source": [
        "# Reading an HTML File and Extracting Its Contents Using Beautiful Soup"
      ],
      "metadata": {
        "id": "g4GJ6UEUkIvI"
      }
    },
    {
      "cell_type": "code",
      "execution_count": null,
      "metadata": {
        "id": "H9Tm1VcqkCmd"
      },
      "outputs": [],
      "source": [
        ""
      ]
    }
  ]
}