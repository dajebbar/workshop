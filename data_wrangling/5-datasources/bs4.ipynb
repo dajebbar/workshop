{
  "nbformat": 4,
  "nbformat_minor": 0,
  "metadata": {
    "colab": {
      "name": "bs4.ipynb",
      "provenance": []
    },
    "kernelspec": {
      "name": "python3",
      "display_name": "Python 3"
    },
    "language_info": {
      "name": "python"
    }
  },
  "cells": [
    {
      "cell_type": "markdown",
      "source": [
        "# Reading an HTML File and Extracting Its Contents Using Beautiful Soup"
      ],
      "metadata": {
        "id": "g4GJ6UEUkIvI"
      }
    },
    {
      "cell_type": "code",
      "execution_count": 1,
      "metadata": {
        "id": "H9Tm1VcqkCmd"
      },
      "outputs": [],
      "source": [
        "import pandas as pd\n",
        "from bs4 import BeautifulSoup\n",
        "from urllib.request import urlretrieve"
      ]
    },
    {
      "cell_type": "code",
      "source": [
        "url = ('https://raw.githubusercontent.com/PacktWorkshops/'\n",
        "'The-Data-Wrangling-Workshop/master/Chapter05/datasets/test.html')\n",
        "\n",
        "urlretrieve(url, 'test.html')"
      ],
      "metadata": {
        "colab": {
          "base_uri": "https://localhost:8080/"
        },
        "id": "P-vK-LUNk5g4",
        "outputId": "b8b87418-90d9-4f05-daad-6c13fda9fea1"
      },
      "execution_count": 2,
      "outputs": [
        {
          "output_type": "execute_result",
          "data": {
            "text/plain": [
              "('test.html', <http.client.HTTPMessage at 0x7fae807f1cd0>)"
            ]
          },
          "metadata": {},
          "execution_count": 2
        }
      ]
    },
    {
      "cell_type": "code",
      "source": [
        "with open('test.html', 'r') as f:\n",
        "  soup = BeautifulSoup(f)\n",
        "  print(type(soup))"
      ],
      "metadata": {
        "colab": {
          "base_uri": "https://localhost:8080/"
        },
        "id": "_Yw3n08VlLLl",
        "outputId": "1badfdcf-6526-4195-cbd8-734f02c88d0a"
      },
      "execution_count": 3,
      "outputs": [
        {
          "output_type": "stream",
          "name": "stdout",
          "text": [
            "<class 'bs4.BeautifulSoup'>\n"
          ]
        }
      ]
    },
    {
      "cell_type": "markdown",
      "source": [
        "### Print the contents of the file in a nice way"
      ],
      "metadata": {
        "id": "H-SRBgnnl5Jt"
      }
    },
    {
      "cell_type": "code",
      "source": [
        "print(soup.prettify())"
      ],
      "metadata": {
        "colab": {
          "base_uri": "https://localhost:8080/"
        },
        "id": "DRFTnh7LlZDF",
        "outputId": "1f1cf2bb-5271-4333-8e47-0dd51c58d1bb"
      },
      "execution_count": 4,
      "outputs": [
        {
          "output_type": "stream",
          "name": "stdout",
          "text": [
            "<html>\n",
            " <body>\n",
            "  <h1>\n",
            "   Lorem ipsum dolor sit amet consectetuer adipiscing \n",
            "elit\n",
            "  </h1>\n",
            "  <p>\n",
            "   Lorem ipsum dolor sit amet, consectetuer adipiscing \n",
            "elit. Aenean commodo ligula eget dolor. Aenean massa\n",
            "   <strong>\n",
            "    strong\n",
            "   </strong>\n",
            "   . Cum sociis natoque penatibus \n",
            "et magnis dis parturient montes, nascetur ridiculus \n",
            "mus. Donec quam felis, ultricies nec, pellentesque \n",
            "eu, pretium quis, sem. Nulla consequat massa quis \n",
            "enim. Donec pede justo, fringilla vel, aliquet nec, \n",
            "vulputate eget, arcu. In enim justo, rhoncus ut, \n",
            "imperdiet a, venenatis vitae, justo. Nullam dictum \n",
            "felis eu pede\n",
            "   <a class=\"external ext\" href=\"#\">\n",
            "    link\n",
            "   </a>\n",
            "   mollis pretium. Integer tincidunt. Cras dapibus. \n",
            "Vivamus elementum semper nisi. Aenean vulputate \n",
            "eleifend tellus. Aenean leo ligula, porttitor eu, \n",
            "consequat vitae, eleifend ac, enim. Aliquam lorem ante, \n",
            "dapibus in, viverra quis, feugiat a, tellus. Phasellus \n",
            "viverra nulla ut metus varius laoreet. Quisque rutrum. \n",
            "Aenean imperdiet. Etiam ultricies nisi vel augue. \n",
            "Curabitur ullamcorper ultricies nisi.\n",
            "  </p>\n",
            "  <h1>\n",
            "   Lorem ipsum dolor sit amet consectetuer adipiscing \n",
            "elit\n",
            "  </h1>\n",
            "  <h2>\n",
            "   Aenean commodo ligula eget dolor aenean massa\n",
            "  </h2>\n",
            "  <p>\n",
            "   Lorem ipsum dolor sit amet, consectetuer adipiscing \n",
            "elit. Aenean commodo ligula eget dolor. Aenean massa. \n",
            "Cum sociis natoque penatibus et magnis dis parturient \n",
            "montes, nascetur ridiculus mus. Donec quam felis, \n",
            "ultricies nec, pellentesque eu, pretium quis, sem.\n",
            "  </p>\n",
            "  <h2>\n",
            "   Aenean commodo ligula eget dolor aenean massa\n",
            "  </h2>\n",
            "  <p>\n",
            "   Lorem ipsum dolor sit amet, consectetuer adipiscing \n",
            "elit. Aenean commodo ligula eget dolor. Aenean massa. \n",
            "Cum sociis natoque penatibus et magnis dis parturient \n",
            "montes, nascetur ridiculus mus. Donec quam felis, \n",
            "ultricies nec, pellentesque eu, pretium quis, sem.\n",
            "  </p>\n",
            "  <ul>\n",
            "   <li>\n",
            "    <a href=\"https://en.wikipedia.org/wiki/Entropy_(information_theory)\">\n",
            "     Information Entropy\n",
            "    </a>\n",
            "   </li>\n",
            "   <li>\n",
            "    <a href=\"http://www.gutenberg.org/browse/scores/top\">\n",
            "     Top books in Gutenberg\n",
            "    </a>\n",
            "   </li>\n",
            "   <li>\n",
            "    <a href=\"https://www.imdb.com/chart/top\">\n",
            "     Top 250 movies in IMDB\n",
            "    </a>\n",
            "   </li>\n",
            "  </ul>\n",
            "  <p>\n",
            "   Lorem ipsum dolor sit amet, consectetuer adipiscing \n",
            "elit. Aenean commodo ligula eget dolor. Aenean massa. \n",
            "Cum sociis natoque penatibus et magnis dis parturient \n",
            "montes, nascetur ridiculus mus. Donec quam felis, \n",
            "ultricies nec, pellentesque eu, pretium quis, sem.\n",
            "  </p>\n",
            "  <form action=\"#\" method=\"post\">\n",
            "   <fieldset>\n",
            "    <label for=\"name\">\n",
            "     Name:\n",
            "    </label>\n",
            "    <input id=\"name\" placeholder=\"Enter your \n",
            "full name\" type=\"text\"/>\n",
            "    <label for=\"email\">\n",
            "     Email:\n",
            "    </label>\n",
            "    <input id=\"email\" placeholder=\"Enter \n",
            "your email address\" type=\"email\"/>\n",
            "    <label for=\"message\">\n",
            "     Message:\n",
            "    </label>\n",
            "    <textarea id=\"message\" placeholder=\"What's on your \n",
            "mind?\"></textarea>\n",
            "    <input type=\"submit\" value=\"Send message\"/>\n",
            "   </fieldset>\n",
            "  </form>\n",
            "  <p>\n",
            "   Lorem ipsum dolor sit amet, consectetuer adipiscing \n",
            "elit. Aenean commodo ligula eget dolor. Aenean massa. \n",
            "Cum sociis natoque penatibus et magnis dis parturient \n",
            "montes, nascetur ridiculus mus. Donec quam felis, \n",
            "ultricies nec, pellentesque eu, pretium quis, sem.\n",
            "  </p>\n",
            "  <table class=\"data\">\n",
            "   <tr>\n",
            "    <th>\n",
            "     Entry Header 1\n",
            "    </th>\n",
            "    <th>\n",
            "     Entry Header 2\n",
            "    </th>\n",
            "    <th>\n",
            "     Entry Header 3\n",
            "    </th>\n",
            "    <th>\n",
            "     Entry Header 4\n",
            "    </th>\n",
            "   </tr>\n",
            "   <tr>\n",
            "    <td>\n",
            "     Entry First Line 1\n",
            "    </td>\n",
            "    <td>\n",
            "     Entry First Line 2\n",
            "    </td>\n",
            "    <td>\n",
            "     Entry First Line 3\n",
            "    </td>\n",
            "    <td>\n",
            "     Entry First Line 4\n",
            "    </td>\n",
            "   </tr>\n",
            "   <tr>\n",
            "    <td>\n",
            "     Entry Line 1\n",
            "    </td>\n",
            "    <td>\n",
            "     Entry Line 2\n",
            "    </td>\n",
            "    <td>\n",
            "     Entry Line 3\n",
            "    </td>\n",
            "    <td>\n",
            "     Entry Line 4\n",
            "    </td>\n",
            "   </tr>\n",
            "   <tr>\n",
            "    <td>\n",
            "     Entry Last Line 1\n",
            "    </td>\n",
            "    <td>\n",
            "     Entry Last Line 2\n",
            "    </td>\n",
            "    <td>\n",
            "     Entry Last Line 3\n",
            "    </td>\n",
            "    <td>\n",
            "     Entry Last Line 4\n",
            "    </td>\n",
            "   </tr>\n",
            "  </table>\n",
            "  <p>\n",
            "   Lorem ipsum dolor sit amet, consectetuer adipiscing \n",
            "elit. Aenean commodo ligula eget dolor. Aenean massa. \n",
            "Cum sociis natoque penatibus et magnis dis parturient \n",
            "montes, nascetur ridiculus mus. Donec quam felis, \n",
            "ultricies nec, pellentesque eu, pretium quis, sem.\n",
            "  </p>\n",
            " </body>\n",
            "</html>\n"
          ]
        }
      ]
    },
    {
      "cell_type": "markdown",
      "source": [
        "### get first paragraph"
      ],
      "metadata": {
        "id": "Iq1wi2OuoajZ"
      }
    },
    {
      "cell_type": "code",
      "source": [
        "with open('test.html', 'r') as f:\n",
        "  soup = BeautifulSoup(f)\n",
        "  print(soup.p)"
      ],
      "metadata": {
        "colab": {
          "base_uri": "https://localhost:8080/"
        },
        "id": "Fsst096Ol-km",
        "outputId": "9509b30a-8cef-4425-d5d1-36beeb9965ac"
      },
      "execution_count": 5,
      "outputs": [
        {
          "output_type": "stream",
          "name": "stdout",
          "text": [
            "<p>Lorem ipsum dolor sit amet, consectetuer adipiscing \n",
            "elit. Aenean commodo ligula eget dolor. Aenean massa \n",
            "<strong>strong</strong>. Cum sociis natoque penatibus \n",
            "et magnis dis parturient montes, nascetur ridiculus \n",
            "mus. Donec quam felis, ultricies nec, pellentesque \n",
            "eu, pretium quis, sem. Nulla consequat massa quis \n",
            "enim. Donec pede justo, fringilla vel, aliquet nec, \n",
            "vulputate eget, arcu. In enim justo, rhoncus ut, \n",
            "imperdiet a, venenatis vitae, justo. Nullam dictum \n",
            "felis eu pede <a class=\"external ext\" href=\"#\">link</a> \n",
            "mollis pretium. Integer tincidunt. Cras dapibus. \n",
            "Vivamus elementum semper nisi. Aenean vulputate \n",
            "eleifend tellus. Aenean leo ligula, porttitor eu, \n",
            "consequat vitae, eleifend ac, enim. Aliquam lorem ante, \n",
            "dapibus in, viverra quis, feugiat a, tellus. Phasellus \n",
            "viverra nulla ut metus varius laoreet. Quisque rutrum. \n",
            "Aenean imperdiet. Etiam ultricies nisi vel augue. \n",
            "Curabitur ullamcorper ultricies nisi.</p>\n"
          ]
        }
      ]
    },
    {
      "cell_type": "markdown",
      "source": [
        "### Use the findall method to extract the content from the tag"
      ],
      "metadata": {
        "id": "x1IEaaDno_om"
      }
    },
    {
      "cell_type": "code",
      "source": [
        "with open('test.html', 'r') as f:\n",
        "  soup = BeautifulSoup(f)\n",
        "  all_ps = soup.find_all('p')\n",
        "  print(f'Total number of <p> --- {len(all_ps)}')"
      ],
      "metadata": {
        "colab": {
          "base_uri": "https://localhost:8080/"
        },
        "id": "-7M6aYy3omPk",
        "outputId": "2fe1d8e4-88c8-4a20-96ff-4ea579b1d837"
      },
      "execution_count": 6,
      "outputs": [
        {
          "output_type": "stream",
          "name": "stdout",
          "text": [
            "Total number of <p> --- 6\n"
          ]
        }
      ]
    },
    {
      "cell_type": "code",
      "source": [
        ""
      ],
      "metadata": {
        "id": "Vh73YAyWpWV4"
      },
      "execution_count": null,
      "outputs": []
    }
  ]
}